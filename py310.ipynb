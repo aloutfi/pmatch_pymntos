{
 "cells": [
  {
   "cell_type": "markdown",
   "id": "e7fbd14d-e788-49b9-8836-b09d0e3d125d",
   "metadata": {},
   "source": [
    "# PyMNtos 2021-11-08 Python 3.10: Structural Pattern Matching presentation demo.\n",
    "\n",
    "\n"
   ]
  },
  {
   "cell_type": "code",
   "execution_count": 1,
   "id": "f434da92-6919-4821-bb13-f27b2ce86f3a",
   "metadata": {},
   "outputs": [],
   "source": [
    "import time\n",
    "import pandas as pd"
   ]
  },
  {
   "cell_type": "markdown",
   "id": "91ea4d83-b80c-4da6-889c-20938cb0167c",
   "metadata": {
    "tags": []
   },
   "source": [
    "# Obligatory ~simplistic~ execution time test"
   ]
  },
  {
   "cell_type": "code",
   "execution_count": 2,
   "id": "dbd12a62-0089-406f-911d-9d41f47590b9",
   "metadata": {},
   "outputs": [],
   "source": [
    "def convert_field_elif(value: int, conversion: str):\n",
    "    \"\"\"Do some conversion on the resulting object.\"\"\"\n",
    "    if conversion is None:\n",
    "        return value\n",
    "    elif conversion == 's':\n",
    "        return str(value)\n",
    "    elif conversion == 'r':\n",
    "        return repr(value)\n",
    "    elif conversion == 'a':\n",
    "        return ascii(value)\n",
    "    else:\n",
    "        raise ValueError(f\"Unknown conversion specifier {conversion}\")"
   ]
  },
  {
   "cell_type": "code",
   "execution_count": 3,
   "id": "8cad85ee-7de8-4bac-ae85-c478b8e4d94a",
   "metadata": {},
   "outputs": [],
   "source": [
    "def convert_field_match(value: int, conversion: str):\n",
    "    \"\"\"Do some conversion on the resulting object.\"\"\"\n",
    "    match conversion:\n",
    "        case None:\n",
    "            return value\n",
    "        case 's':\n",
    "            return str(value)\n",
    "        case 'r':\n",
    "            return repr(value)\n",
    "        case 'a':\n",
    "            return ascii(value)\n",
    "        case _:\n",
    "            raise ValueError(f\"Unknown conversion specifier {conversion}\")"
   ]
  },
  {
   "cell_type": "code",
   "execution_count": 21,
   "id": "1c82416c-613e-48c0-8adf-c64094ad4d4a",
   "metadata": {},
   "outputs": [
    {
     "data": {
      "text/html": [
       "<div>\n",
       "<style scoped>\n",
       "    .dataframe tbody tr th:only-of-type {\n",
       "        vertical-align: middle;\n",
       "    }\n",
       "\n",
       "    .dataframe tbody tr th {\n",
       "        vertical-align: top;\n",
       "    }\n",
       "\n",
       "    .dataframe thead th {\n",
       "        text-align: right;\n",
       "    }\n",
       "</style>\n",
       "<table border=\"1\" class=\"dataframe\">\n",
       "  <thead>\n",
       "    <tr style=\"text-align: right;\">\n",
       "      <th></th>\n",
       "      <th>loop</th>\n",
       "      <th>elif_time seconds</th>\n",
       "      <th>faster</th>\n",
       "      <th>match_time seconds</th>\n",
       "    </tr>\n",
       "  </thead>\n",
       "  <tbody>\n",
       "    <tr>\n",
       "      <th>0</th>\n",
       "      <td>100</td>\n",
       "      <td>0.000287</td>\n",
       "      <td>&lt;-</td>\n",
       "      <td>0.000314</td>\n",
       "    </tr>\n",
       "    <tr>\n",
       "      <th>1</th>\n",
       "      <td>1000</td>\n",
       "      <td>0.003229</td>\n",
       "      <td>-&gt;</td>\n",
       "      <td>0.002997</td>\n",
       "    </tr>\n",
       "    <tr>\n",
       "      <th>2</th>\n",
       "      <td>1000000</td>\n",
       "      <td>0.635925</td>\n",
       "      <td>&lt;-</td>\n",
       "      <td>0.636027</td>\n",
       "    </tr>\n",
       "    <tr>\n",
       "      <th>3</th>\n",
       "      <td>10000000</td>\n",
       "      <td>6.267407</td>\n",
       "      <td>&lt;-</td>\n",
       "      <td>6.338647</td>\n",
       "    </tr>\n",
       "  </tbody>\n",
       "</table>\n",
       "</div>"
      ],
      "text/plain": [
       "       loop  elif_time seconds faster  match_time seconds\n",
       "0       100           0.000287     <-            0.000314\n",
       "1      1000           0.003229     ->            0.002997\n",
       "2   1000000           0.635925     <-            0.636027\n",
       "3  10000000           6.267407     <-            6.338647"
      ]
     },
     "execution_count": 21,
     "metadata": {},
     "output_type": "execute_result"
    }
   ],
   "source": [
    "def compare_elif_and_match_execution_time(loops: int):\n",
    "    \"\"\"Run the convert_field_* methods over a pre-defined loop while calculating exectuion time.\"\"\"\n",
    "    start = time.time()\n",
    "    for i in range(0, loops + 1):\n",
    "        [convert_field_elif(i, _conversion) for _conversion in [None, 's', 'r', 'a']]\n",
    "    elif_time = time.time() - start\n",
    "\n",
    "    start = time.time()\n",
    "    for i in range(0, loops + 1):\n",
    "        [convert_field_match(i, _conversion) for _conversion in [None, 's', 'r', 'a']]\n",
    "    match_time = time.time() - start\n",
    "    \n",
    "    return elif_time,\"->\" if elif_time > match_time else \"<-\", match_time\n",
    "\n",
    "results = []\n",
    "for loop in [100, 1000, 1000000, 10000000]:\n",
    "    results.append((loop, *compare_elif_and_match_execution_time(loop)))\n",
    "\n",
    "pd.DataFrame(results, columns=['loop', 'elif_time seconds', 'faster', 'match_time seconds'])"
   ]
  },
  {
   "cell_type": "markdown",
   "id": "9e72d8f0-18e2-4827-b559-afd510f8fc7b",
   "metadata": {},
   "source": [
    "### No real conclusive results in terms of execution time... \n",
    "### I'm sure folks who have more working interpreter knowledge would have some insights."
   ]
  },
  {
   "cell_type": "markdown",
   "id": "10bec565-fd0e-491f-8e2d-d9a7bff3d1d6",
   "metadata": {},
   "source": [
    "# or pattern, wildpattern, guards"
   ]
  },
  {
   "cell_type": "code",
   "execution_count": 20,
   "id": "ec7afc43-8398-4138-acb1-f3f44964a8a2",
   "metadata": {},
   "outputs": [
    {
     "name": "stdout",
     "output_type": "stream",
     "text": [
      "from 0 or 1 0\n",
      "0: 1\n",
      "from 0 or 1 1\n",
      "1: 1\n",
      "from 0 or 1 1\n",
      "2: 2\n",
      "from 0 or 1 1\n",
      "3: 6\n",
      "from 0 or 1 1\n",
      "4: 24\n",
      "from 0 or 1 1\n",
      "5: 120\n",
      "from 0 or 1 1\n",
      "6: 720\n",
      "from 0 or 1 1\n",
      "7: 5040\n",
      "from 0 or 1 1\n",
      "8: 40320\n",
      "from 0 or 1 1\n",
      "9: 362880\n"
     ]
    },
    {
     "ename": "TypeError",
     "evalue": "any() takes exactly one argument (2 given)",
     "output_type": "error",
     "traceback": [
      "\u001b[0;31m---------------------------------------------------------------------------\u001b[0m",
      "\u001b[0;31mTypeError\u001b[0m                                 Traceback (most recent call last)",
      "\u001b[0;32m/var/folders/fy/ltwxc73949qgdvs67w16wv9h0000gn/T/ipykernel_99368/1237997973.py\u001b[0m in \u001b[0;36m<module>\u001b[0;34m\u001b[0m\n\u001b[1;32m     15\u001b[0m \u001b[0;32mfor\u001b[0m \u001b[0mn\u001b[0m \u001b[0;32min\u001b[0m \u001b[0mrange\u001b[0m\u001b[0;34m(\u001b[0m\u001b[0;36m0\u001b[0m\u001b[0;34m,\u001b[0m \u001b[0;36m9\u001b[0m \u001b[0;34m+\u001b[0m \u001b[0;36m1\u001b[0m\u001b[0;34m)\u001b[0m\u001b[0;34m:\u001b[0m\u001b[0;34m\u001b[0m\u001b[0;34m\u001b[0m\u001b[0m\n\u001b[1;32m     16\u001b[0m     \u001b[0mprint\u001b[0m\u001b[0;34m(\u001b[0m\u001b[0;34mf'{n}: {factorial(n)}'\u001b[0m\u001b[0;34m)\u001b[0m\u001b[0;34m\u001b[0m\u001b[0;34m\u001b[0m\u001b[0m\n\u001b[0;32m---> 17\u001b[0;31m \u001b[0mfactorial\u001b[0m\u001b[0;34m(\u001b[0m\u001b[0;34m-\u001b[0m\u001b[0;36m4\u001b[0m\u001b[0;34m)\u001b[0m\u001b[0;34m\u001b[0m\u001b[0;34m\u001b[0m\u001b[0m\n\u001b[0m",
      "\u001b[0;32m/var/folders/fy/ltwxc73949qgdvs67w16wv9h0000gn/T/ipykernel_99368/1237997973.py\u001b[0m in \u001b[0;36mfactorial\u001b[0;34m(n)\u001b[0m\n\u001b[1;32m      7\u001b[0m             \u001b[0mprint\u001b[0m\u001b[0;34m(\u001b[0m\u001b[0;34mf'from 0 or 1 {m}'\u001b[0m\u001b[0;34m)\u001b[0m\u001b[0;34m\u001b[0m\u001b[0;34m\u001b[0m\u001b[0m\n\u001b[1;32m      8\u001b[0m             \u001b[0;32mreturn\u001b[0m \u001b[0;36m1\u001b[0m\u001b[0;34m\u001b[0m\u001b[0;34m\u001b[0m\u001b[0m\n\u001b[0;32m----> 9\u001b[0;31m         \u001b[0mcase\u001b[0m \u001b[0mn\u001b[0m \u001b[0;32mif\u001b[0m \u001b[0many\u001b[0m\u001b[0;34m(\u001b[0m\u001b[0mn\u001b[0m \u001b[0;34m<\u001b[0m \u001b[0;36m0\u001b[0m\u001b[0;34m,\u001b[0m \u001b[0mn\u001b[0m \u001b[0;34m<=\u001b[0m \u001b[0;34m-\u001b[0m\u001b[0;36m1\u001b[0m\u001b[0;34m)\u001b[0m\u001b[0;34m:\u001b[0m\u001b[0;34m\u001b[0m\u001b[0;34m\u001b[0m\u001b[0m\n\u001b[0m\u001b[1;32m     10\u001b[0m             \u001b[0;32mraise\u001b[0m \u001b[0mValueError\u001b[0m\u001b[0;34m(\u001b[0m\u001b[0;34m'n must be greater than one'\u001b[0m\u001b[0;34m)\u001b[0m\u001b[0;34m\u001b[0m\u001b[0;34m\u001b[0m\u001b[0m\n\u001b[1;32m     11\u001b[0m         \u001b[0mcase\u001b[0m \u001b[0m_\u001b[0m\u001b[0;34m:\u001b[0m\u001b[0;34m\u001b[0m\u001b[0;34m\u001b[0m\u001b[0m\n",
      "\u001b[0;31mTypeError\u001b[0m: any() takes exactly one argument (2 given)"
     ]
    }
   ],
   "source": [
    "def factorial(n: int):\n",
    "    \"\"\"Let's add another way to implement Factorial!\"\"\"\n",
    "    match n:    \n",
    "        case n if n > 1:\n",
    "            return n * factorial(n-1)\n",
    "        case 0 | 1 as m:\n",
    "            print(f'from 0 or 1 {m}')\n",
    "            return 1\n",
    "        case n if any(n < 0, n <= -1):\n",
    "            raise ValueError('n must be greater than one')\n",
    "        case _:\n",
    "            raise TypeError(\n",
    "                f'Unhandled type: {type(n)}. Accepts int.')\n",
    "        \n",
    "for n in range(0, 9 + 1):\n",
    "    print(f'{n}: {factorial(n)}')\n",
    "factorial(-4)"
   ]
  },
  {
   "cell_type": "code",
   "execution_count": 6,
   "id": "3d43b788-28a3-437e-9a2f-58264a43863b",
   "metadata": {},
   "outputs": [
    {
     "ename": "TypeError",
     "evalue": "'>' not supported between instances of 'str' and 'int'",
     "output_type": "error",
     "traceback": [
      "\u001b[0;31m---------------------------------------------------------------------------\u001b[0m",
      "\u001b[0;31mTypeError\u001b[0m                                 Traceback (most recent call last)",
      "\u001b[0;32m/var/folders/fy/ltwxc73949qgdvs67w16wv9h0000gn/T/ipykernel_99368/1987427801.py\u001b[0m in \u001b[0;36m<module>\u001b[0;34m\u001b[0m\n\u001b[0;32m----> 1\u001b[0;31m \u001b[0mfactorial\u001b[0m\u001b[0;34m(\u001b[0m\u001b[0;34m\"tomato\"\u001b[0m\u001b[0;34m)\u001b[0m\u001b[0;34m\u001b[0m\u001b[0;34m\u001b[0m\u001b[0m\n\u001b[0m",
      "\u001b[0;32m/var/folders/fy/ltwxc73949qgdvs67w16wv9h0000gn/T/ipykernel_99368/830028521.py\u001b[0m in \u001b[0;36mfactorial\u001b[0;34m(n)\u001b[0m\n\u001b[1;32m      2\u001b[0m     \u001b[0;34m\"\"\"Let's add another way to implement Factorial!\"\"\"\u001b[0m\u001b[0;34m\u001b[0m\u001b[0;34m\u001b[0m\u001b[0m\n\u001b[1;32m      3\u001b[0m     \u001b[0mmatch\u001b[0m \u001b[0mn\u001b[0m\u001b[0;34m:\u001b[0m\u001b[0;34m\u001b[0m\u001b[0;34m\u001b[0m\u001b[0m\n\u001b[0;32m----> 4\u001b[0;31m         \u001b[0mcase\u001b[0m \u001b[0mn\u001b[0m \u001b[0;32mif\u001b[0m \u001b[0mn\u001b[0m \u001b[0;34m>\u001b[0m \u001b[0;36m1\u001b[0m\u001b[0;34m:\u001b[0m\u001b[0;34m\u001b[0m\u001b[0;34m\u001b[0m\u001b[0m\n\u001b[0m\u001b[1;32m      5\u001b[0m             \u001b[0;32mreturn\u001b[0m \u001b[0mn\u001b[0m \u001b[0;34m*\u001b[0m \u001b[0mfactorial\u001b[0m\u001b[0;34m(\u001b[0m\u001b[0mn\u001b[0m\u001b[0;34m-\u001b[0m\u001b[0;36m1\u001b[0m\u001b[0;34m)\u001b[0m\u001b[0;34m\u001b[0m\u001b[0;34m\u001b[0m\u001b[0m\n\u001b[1;32m      6\u001b[0m         \u001b[0mcase\u001b[0m \u001b[0;36m0\u001b[0m \u001b[0;34m|\u001b[0m \u001b[0;36m1\u001b[0m\u001b[0;34m:\u001b[0m\u001b[0;34m\u001b[0m\u001b[0;34m\u001b[0m\u001b[0m\n",
      "\u001b[0;31mTypeError\u001b[0m: '>' not supported between instances of 'str' and 'int'"
     ]
    }
   ],
   "source": [
    "factorial(\"tomato\")"
   ]
  },
  {
   "cell_type": "code",
   "execution_count": 7,
   "id": "ba67a341-84a8-47f9-b44d-2b9848f4d526",
   "metadata": {},
   "outputs": [],
   "source": [
    "class Coord:\n",
    "    \"\"\"A class to represent coordinate values.\"\"\"\n",
    "    def __init__(self, x, y):\n",
    "        self.x = x\n",
    "        self.y = y"
   ]
  },
  {
   "cell_type": "code",
   "execution_count": 8,
   "id": "e1f3800b-e41b-4cbc-84cf-bc75c1c0e660",
   "metadata": {},
   "outputs": [
    {
     "ename": "TypeError",
     "evalue": "Coord() accepts 0 positional sub-patterns (2 given)",
     "output_type": "error",
     "traceback": [
      "\u001b[0;31m---------------------------------------------------------------------------\u001b[0m",
      "\u001b[0;31mTypeError\u001b[0m                                 Traceback (most recent call last)",
      "\u001b[0;32m/var/folders/fy/ltwxc73949qgdvs67w16wv9h0000gn/T/ipykernel_99368/247351250.py\u001b[0m in \u001b[0;36m<module>\u001b[0;34m\u001b[0m\n\u001b[1;32m      1\u001b[0m \u001b[0mcoord\u001b[0m \u001b[0;34m=\u001b[0m \u001b[0mCoord\u001b[0m\u001b[0;34m(\u001b[0m\u001b[0;36m1\u001b[0m\u001b[0;34m,\u001b[0m \u001b[0;36m2\u001b[0m\u001b[0;34m)\u001b[0m\u001b[0;34m\u001b[0m\u001b[0;34m\u001b[0m\u001b[0m\n\u001b[1;32m      2\u001b[0m \u001b[0mmatch\u001b[0m \u001b[0mcoord\u001b[0m\u001b[0;34m:\u001b[0m\u001b[0;34m\u001b[0m\u001b[0;34m\u001b[0m\u001b[0m\n\u001b[0;32m----> 3\u001b[0;31m     \u001b[0mcase\u001b[0m \u001b[0mCoord\u001b[0m\u001b[0;34m(\u001b[0m\u001b[0;36m0\u001b[0m\u001b[0;34m,\u001b[0m \u001b[0;36m0\u001b[0m\u001b[0;34m)\u001b[0m\u001b[0;34m:\u001b[0m\u001b[0;34m\u001b[0m\u001b[0;34m\u001b[0m\u001b[0m\n\u001b[0m\u001b[1;32m      4\u001b[0m         \u001b[0mprint\u001b[0m\u001b[0;34m(\u001b[0m\u001b[0;34m\"at the origin\"\u001b[0m\u001b[0;34m)\u001b[0m\u001b[0;34m\u001b[0m\u001b[0;34m\u001b[0m\u001b[0m\n\u001b[1;32m      5\u001b[0m     \u001b[0mcase\u001b[0m \u001b[0mCoord\u001b[0m\u001b[0;34m(\u001b[0m\u001b[0;36m0\u001b[0m\u001b[0;34m,\u001b[0m \u001b[0my\u001b[0m\u001b[0;34m)\u001b[0m\u001b[0;34m:\u001b[0m\u001b[0;34m\u001b[0m\u001b[0;34m\u001b[0m\u001b[0m\n",
      "\u001b[0;31mTypeError\u001b[0m: Coord() accepts 0 positional sub-patterns (2 given)"
     ]
    }
   ],
   "source": [
    "coord = Coord(1, 2)\n",
    "match coord:\n",
    "    case Coord(0, 0):\n",
    "        print(\"at the origin\")\n",
    "    case Coord(0, y):\n",
    "        print(f\"On vertical axis, y = {y}\")\n",
    "    case Coord(x, 0):\n",
    "        print(f\"On horizontal axis, x = {x}\")\n",
    "    case Coord(x, y):\n",
    "        print(f\"at {coord}\")\n",
    "    case _:\n",
    "        print(\"unhandled\")"
   ]
  },
  {
   "cell_type": "markdown",
   "id": "2db99b7c-588a-4fde-8a64-d86457a7497d",
   "metadata": {},
   "source": [
    "## Why doesn't this work? We need to specify what is being matched to."
   ]
  },
  {
   "cell_type": "code",
   "execution_count": 9,
   "id": "70c7369a-09ba-4d48-a589-5c09d920fc43",
   "metadata": {},
   "outputs": [
    {
     "name": "stdout",
     "output_type": "stream",
     "text": [
      "On horizontal axis, x = 1\n"
     ]
    }
   ],
   "source": [
    "coord = Coord(1, 0)\n",
    "match coord:\n",
    "    case Coord(x=0, y=0):\n",
    "        print(\"at the origin\")\n",
    "    case Coord(x=0, y=y):\n",
    "        print(f\"On vertical axis, y = {y}\")\n",
    "    case Coord(x=x, y=0):\n",
    "        print(f\"On horizontal axis, x = {x}\")\n",
    "    case Coord(x=x, y=y):\n",
    "        print(f\"at {coord}\")\n",
    "    case _:\n",
    "        print(\"unhandled\")"
   ]
  },
  {
   "cell_type": "markdown",
   "id": "eb8eca02-59a5-4470-83c5-a21f8e798d60",
   "metadata": {},
   "source": [
    "## We can use the new `__match_args__` class field to specify arguments to match to for a class"
   ]
  },
  {
   "cell_type": "code",
   "execution_count": 10,
   "id": "a4688d97-1683-442c-ae1b-55e48e312926",
   "metadata": {},
   "outputs": [],
   "source": [
    "class Coord:\n",
    "    \"\"\"A class to represent coordinate values.\"\"\"\n",
    "    \n",
    "    __match_args__ = (\"x\", \"y\")\n",
    "    def __init__(self, x, y):\n",
    "        self.x = x\n",
    "        self.y = y"
   ]
  },
  {
   "cell_type": "code",
   "execution_count": 11,
   "id": "10485a36-c522-4f1c-b11a-5b553dc69e77",
   "metadata": {},
   "outputs": [
    {
     "name": "stdout",
     "output_type": "stream",
     "text": [
      "On vertical axis, y = 1\n"
     ]
    }
   ],
   "source": [
    "coord = Coord(0, 1)\n",
    "match coord:\n",
    "    case Coord(0, 0):\n",
    "        print(\"at the origin\")\n",
    "    case Coord(0, y):\n",
    "        print(f\"On vertical axis, y = {y}\")\n",
    "    case Coord(x, 0):\n",
    "        print(f\"On horizontal axis, x = {x}\")\n",
    "    case Coord(x, y):\n",
    "        print(f\"at {coord}\")\n",
    "    case _:\n",
    "        print(\"unhandled\")"
   ]
  },
  {
   "cell_type": "markdown",
   "id": "88b7a0a6-aafe-4eb4-b61a-4936c78149e2",
   "metadata": {},
   "source": [
    "### Python does a great job with tuple unpacking. Let's take it one step further.\n",
    "\n",
    "see: https://www.python.org/dev/peps/pep-0642"
   ]
  },
  {
   "cell_type": "code",
   "execution_count": 18,
   "id": "5d49ffd9-d6f0-445f-a84f-9a2846e18507",
   "metadata": {},
   "outputs": [
    {
     "name": "stdout",
     "output_type": "stream",
     "text": [
      "missing name (255, 255, 255, 0)\n",
      "Purple (101, 17, 107, 0)\n",
      "Red (255, 0, 0, 0)\n"
     ]
    },
    {
     "ename": "ValueError",
     "evalue": "Unknown color info.",
     "output_type": "error",
     "traceback": [
      "\u001b[0;31m---------------------------------------------------------------------------\u001b[0m",
      "\u001b[0;31mValueError\u001b[0m                                Traceback (most recent call last)",
      "\u001b[0;32m/var/folders/fy/ltwxc73949qgdvs67w16wv9h0000gn/T/ipykernel_99368/399460278.py\u001b[0m in \u001b[0;36m<module>\u001b[0;34m\u001b[0m\n\u001b[1;32m     18\u001b[0m \u001b[0mcolor_unpacking\u001b[0m\u001b[0;34m(\u001b[0m\u001b[0;34m(\u001b[0m\u001b[0;34m'Purple'\u001b[0m\u001b[0;34m,\u001b[0m \u001b[0;34m(\u001b[0m\u001b[0;36m101\u001b[0m\u001b[0;34m,\u001b[0m \u001b[0;36m17\u001b[0m\u001b[0;34m,\u001b[0m \u001b[0;36m107\u001b[0m\u001b[0;34m)\u001b[0m\u001b[0;34m)\u001b[0m\u001b[0;34m)\u001b[0m\u001b[0;34m\u001b[0m\u001b[0;34m\u001b[0m\u001b[0m\n\u001b[1;32m     19\u001b[0m \u001b[0mcolor_unpacking\u001b[0m\u001b[0;34m(\u001b[0m\u001b[0;34m(\u001b[0m\u001b[0;34m'Red'\u001b[0m\u001b[0;34m,\u001b[0m \u001b[0;34m(\u001b[0m\u001b[0;36m255\u001b[0m\u001b[0;34m,\u001b[0m \u001b[0;36m0\u001b[0m\u001b[0;34m,\u001b[0m \u001b[0;36m0\u001b[0m\u001b[0;34m,\u001b[0m \u001b[0;36m0\u001b[0m\u001b[0;34m)\u001b[0m\u001b[0;34m)\u001b[0m\u001b[0;34m)\u001b[0m\u001b[0;34m\u001b[0m\u001b[0;34m\u001b[0m\u001b[0m\n\u001b[0;32m---> 20\u001b[0;31m \u001b[0mcolor_unpacking\u001b[0m\u001b[0;34m(\u001b[0m\u001b[0;34m(\u001b[0m\u001b[0;34m\"Green\"\u001b[0m\u001b[0;34m,\u001b[0m \u001b[0;34m(\u001b[0m\u001b[0;36m0\u001b[0m\u001b[0;34m,\u001b[0m \u001b[0;36m255\u001b[0m\u001b[0;34m,\u001b[0m \u001b[0;34m\"0\"\u001b[0m\u001b[0;34m)\u001b[0m\u001b[0;34m)\u001b[0m\u001b[0;34m)\u001b[0m\u001b[0;34m\u001b[0m\u001b[0;34m\u001b[0m\u001b[0m\n\u001b[0m",
      "\u001b[0;32m/var/folders/fy/ltwxc73949qgdvs67w16wv9h0000gn/T/ipykernel_99368/399460278.py\u001b[0m in \u001b[0;36mcolor_unpacking\u001b[0;34m(color)\u001b[0m\n\u001b[1;32m     12\u001b[0m             \u001b[0;32mpass\u001b[0m\u001b[0;34m\u001b[0m\u001b[0;34m\u001b[0m\u001b[0m\n\u001b[1;32m     13\u001b[0m         \u001b[0mcase\u001b[0m \u001b[0m_\u001b[0m\u001b[0;34m:\u001b[0m\u001b[0;34m\u001b[0m\u001b[0;34m\u001b[0m\u001b[0m\n\u001b[0;32m---> 14\u001b[0;31m             \u001b[0;32mraise\u001b[0m \u001b[0mValueError\u001b[0m\u001b[0;34m(\u001b[0m\u001b[0;34m\"Unknown color info.\"\u001b[0m\u001b[0;34m)\u001b[0m\u001b[0;34m\u001b[0m\u001b[0;34m\u001b[0m\u001b[0m\n\u001b[0m\u001b[1;32m     15\u001b[0m     \u001b[0mprint\u001b[0m\u001b[0;34m(\u001b[0m\u001b[0mname\u001b[0m\u001b[0;34m,\u001b[0m \u001b[0;34m(\u001b[0m\u001b[0mr\u001b[0m\u001b[0;34m,\u001b[0m \u001b[0mg\u001b[0m\u001b[0;34m,\u001b[0m \u001b[0mb\u001b[0m\u001b[0;34m,\u001b[0m \u001b[0ma\u001b[0m\u001b[0;34m)\u001b[0m\u001b[0;34m)\u001b[0m\u001b[0;34m\u001b[0m\u001b[0;34m\u001b[0m\u001b[0m\n\u001b[1;32m     16\u001b[0m \u001b[0;34m\u001b[0m\u001b[0m\n",
      "\u001b[0;31mValueError\u001b[0m: Unknown color info."
     ]
    }
   ],
   "source": [
    "def color_unpacking(color: tuple):\n",
    "    \"\"\"Normalize to name, r, g, b, alpha.\"\"\"\n",
    "    match color:\n",
    "        case (int(r), int(g), int(b)):\n",
    "            name = \"missing name\"\n",
    "            a = 0\n",
    "        case (int(r), int(g), int(b), int(a)):\n",
    "            name = \"missing name\"\n",
    "        case (str(name), (int(r), int(g), int(b))):\n",
    "            a = 0\n",
    "        case (str(name), (int(r), int(g), int(b), int(a))):\n",
    "            pass\n",
    "        case _:\n",
    "            raise ValueError(\"Unknown color info.\")\n",
    "    print(name, (r, g, b, a))\n",
    "\n",
    "color_unpacking((255,255,255))\n",
    "color_unpacking(('Purple', (101, 17, 107)))\n",
    "color_unpacking(('Red', (255, 0, 0, 0)))\n",
    "color_unpacking((\"Green\", (0, 255, \"0\")))"
   ]
  },
  {
   "cell_type": "markdown",
   "id": "93ff35ef-1485-4901-8757-76346c47cd54",
   "metadata": {},
   "source": [
    "### This handles type validaiton as well."
   ]
  },
  {
   "cell_type": "code",
   "execution_count": 14,
   "id": "83c40569-75cb-47e3-9f64-30a9d9164232",
   "metadata": {},
   "outputs": [
    {
     "ename": "ValueError",
     "evalue": "Unknown color info.",
     "output_type": "error",
     "traceback": [
      "\u001b[0;31m---------------------------------------------------------------------------\u001b[0m",
      "\u001b[0;31mValueError\u001b[0m                                Traceback (most recent call last)",
      "\u001b[0;32m/var/folders/fy/ltwxc73949qgdvs67w16wv9h0000gn/T/ipykernel_99368/32243722.py\u001b[0m in \u001b[0;36m<module>\u001b[0;34m\u001b[0m\n\u001b[0;32m----> 1\u001b[0;31m \u001b[0mcolor_unpacking\u001b[0m\u001b[0;34m(\u001b[0m\u001b[0;34m(\u001b[0m\u001b[0;32mTrue\u001b[0m\u001b[0;34m,\u001b[0m \u001b[0;34m(\u001b[0m\u001b[0;36m255\u001b[0m\u001b[0;34m,\u001b[0m \u001b[0;36m255\u001b[0m\u001b[0;34m,\u001b[0m \u001b[0;36m255\u001b[0m\u001b[0;34m)\u001b[0m\u001b[0;34m)\u001b[0m\u001b[0;34m)\u001b[0m\u001b[0;34m\u001b[0m\u001b[0;34m\u001b[0m\u001b[0m\n\u001b[0m",
      "\u001b[0;32m/var/folders/fy/ltwxc73949qgdvs67w16wv9h0000gn/T/ipykernel_99368/399460278.py\u001b[0m in \u001b[0;36mcolor_unpacking\u001b[0;34m(color)\u001b[0m\n\u001b[1;32m     12\u001b[0m             \u001b[0;32mpass\u001b[0m\u001b[0;34m\u001b[0m\u001b[0;34m\u001b[0m\u001b[0m\n\u001b[1;32m     13\u001b[0m         \u001b[0mcase\u001b[0m \u001b[0m_\u001b[0m\u001b[0;34m:\u001b[0m\u001b[0;34m\u001b[0m\u001b[0;34m\u001b[0m\u001b[0m\n\u001b[0;32m---> 14\u001b[0;31m             \u001b[0;32mraise\u001b[0m \u001b[0mValueError\u001b[0m\u001b[0;34m(\u001b[0m\u001b[0;34m\"Unknown color info.\"\u001b[0m\u001b[0;34m)\u001b[0m\u001b[0;34m\u001b[0m\u001b[0;34m\u001b[0m\u001b[0m\n\u001b[0m\u001b[1;32m     15\u001b[0m     \u001b[0mprint\u001b[0m\u001b[0;34m(\u001b[0m\u001b[0mname\u001b[0m\u001b[0;34m,\u001b[0m \u001b[0;34m(\u001b[0m\u001b[0mr\u001b[0m\u001b[0;34m,\u001b[0m \u001b[0mg\u001b[0m\u001b[0;34m,\u001b[0m \u001b[0mb\u001b[0m\u001b[0;34m,\u001b[0m \u001b[0ma\u001b[0m\u001b[0;34m)\u001b[0m\u001b[0;34m)\u001b[0m\u001b[0;34m\u001b[0m\u001b[0;34m\u001b[0m\u001b[0m\n\u001b[1;32m     16\u001b[0m \u001b[0;34m\u001b[0m\u001b[0m\n",
      "\u001b[0;31mValueError\u001b[0m: Unknown color info."
     ]
    }
   ],
   "source": [
    "color_unpacking((True, (255, 255, 255)))"
   ]
  },
  {
   "cell_type": "code",
   "execution_count": 16,
   "id": "eb9134ac-f36a-406f-bcb9-b033b19843f2",
   "metadata": {},
   "outputs": [
    {
     "ename": "TypeError",
     "evalue": "cannot unpack non-iterable int object",
     "output_type": "error",
     "traceback": [
      "\u001b[0;31m---------------------------------------------------------------------------\u001b[0m",
      "\u001b[0;31mTypeError\u001b[0m                                 Traceback (most recent call last)",
      "\u001b[0;32m/var/folders/fy/ltwxc73949qgdvs67w16wv9h0000gn/T/ipykernel_99368/1939554530.py\u001b[0m in \u001b[0;36m<module>\u001b[0;34m\u001b[0m\n\u001b[0;32m----> 1\u001b[0;31m \u001b[0;32mfor\u001b[0m \u001b[0;34m(\u001b[0m\u001b[0mn\u001b[0m\u001b[0;34m,\u001b[0m \u001b[0ml\u001b[0m\u001b[0;34m,\u001b[0m \u001b[0mz\u001b[0m\u001b[0;34m)\u001b[0m \u001b[0;32min\u001b[0m \u001b[0;34m(\u001b[0m\u001b[0;36m1\u001b[0m\u001b[0;34m,\u001b[0m\u001b[0;36m2\u001b[0m\u001b[0;34m,\u001b[0m\u001b[0;36m3\u001b[0m\u001b[0;34m)\u001b[0m\u001b[0;34m:\u001b[0m\u001b[0;34m\u001b[0m\u001b[0;34m\u001b[0m\u001b[0m\n\u001b[0m\u001b[1;32m      2\u001b[0m     \u001b[0mprint\u001b[0m\u001b[0;34m(\u001b[0m\u001b[0mn\u001b[0m\u001b[0;34m,\u001b[0m\u001b[0ml\u001b[0m\u001b[0;34m,\u001b[0m\u001b[0mz\u001b[0m\u001b[0;34m)\u001b[0m\u001b[0;34m\u001b[0m\u001b[0;34m\u001b[0m\u001b[0m\n",
      "\u001b[0;31mTypeError\u001b[0m: cannot unpack non-iterable int object"
     ]
    }
   ],
   "source": [
    "for (n, l, z) in (1,2,3):\n",
    "    print(n,l,z)"
   ]
  },
  {
   "cell_type": "code",
   "execution_count": null,
   "id": "a1ea4eef-d44b-4599-af43-0d8023a61251",
   "metadata": {},
   "outputs": [],
   "source": []
  }
 ],
 "metadata": {
  "kernelspec": {
   "display_name": "python310-kernel",
   "language": "python",
   "name": "python310-kernel"
  },
  "language_info": {
   "codemirror_mode": {
    "name": "ipython",
    "version": 3
   },
   "file_extension": ".py",
   "mimetype": "text/x-python",
   "name": "python",
   "nbconvert_exporter": "python",
   "pygments_lexer": "ipython3",
   "version": "3.10.0"
  }
 },
 "nbformat": 4,
 "nbformat_minor": 5
}
